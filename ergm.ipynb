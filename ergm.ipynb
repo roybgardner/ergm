{
 "cells": [
  {
   "cell_type": "code",
   "execution_count": 1,
   "id": "98a42a72",
   "metadata": {},
   "outputs": [],
   "source": [
    "import itertools\n",
    "import matplotlib.pyplot as plt\n",
    "import networkx as nx\n",
    "import numpy as np\n",
    "import random\n",
    "\n",
    "from matplotlib.gridspec import GridSpec\n",
    "from mpl_toolkits import mplot3d \n"
   ]
  },
  {
   "cell_type": "code",
   "execution_count": 2,
   "id": "f014a4b2",
   "metadata": {},
   "outputs": [
    {
     "name": "stdout",
     "output_type": "stream",
     "text": [
      "11\n"
     ]
    }
   ],
   "source": [
    "from networkx import graph_atlas_g\n",
    "\n",
    "four_node_graphs = [g for g in graph_atlas_g() if len(g.nodes())==4]\n",
    "print(len(four_node_graphs))\n"
   ]
  },
  {
   "cell_type": "code",
   "execution_count": null,
   "id": "6ccc86bf",
   "metadata": {},
   "outputs": [],
   "source": []
  },
  {
   "cell_type": "code",
   "execution_count": 3,
   "id": "c09e94f9",
   "metadata": {},
   "outputs": [],
   "source": [
    "def get_vertices(graph):\n",
    "    # Not sensible, but a good test\n",
    "    return len(graph.nodes())\n",
    "\n",
    "def get_edges(graph):\n",
    "    return len(graph.edges())\n",
    "\n",
    "def get_triangles(graph):\n",
    "    # Returns the number of vertices in triangles\n",
    "    return sum(nx.triangles(graph).values())/3\n",
    "\n",
    "def get_isolates(graph):\n",
    "    # Vertices without any edges to other vertices\n",
    "    return len(list(nx.isolates(graph)))\n",
    "\n",
    "def get_ergm_weight(graph, coefficients, statistics):\n",
    "    '''\n",
    "    Compute the ERGM numerator on graph with coefficients for a set of graph statistics    \n",
    "    '''\n",
    "    v = 0\n",
    "    for i,stat in enumerate(statistics):\n",
    "        v += coefficients[i] * stat(graph)        \n",
    "    return np.exp(v)\n",
    "\n",
    "def get_ergm_denominator(graph_set, coefficients, statistics):\n",
    "    denom = 0\n",
    "    for graph in graph_set:\n",
    "        denom += get_ergm_weight(graph, coefficients, statistics)\n",
    "    return denom\n",
    "    \n",
    "def coeffs_to_string(coefficients):\n",
    "    s = ''\n",
    "    for i,c in enumerate(coefficients):\n",
    "        s += str(c)\n",
    "        if i < len(coefficients) - 1:\n",
    "            s += ', '\n",
    "    return s\n",
    "        \n",
    "    \n"
   ]
  },
  {
   "cell_type": "code",
   "execution_count": null,
   "id": "f14850e5",
   "metadata": {},
   "outputs": [],
   "source": []
  },
  {
   "cell_type": "markdown",
   "id": "c04b93a7",
   "metadata": {},
   "source": [
    "## Four-vertex graph set"
   ]
  },
  {
   "cell_type": "markdown",
   "id": "7a652a2f",
   "metadata": {},
   "source": [
    "### Build the set of four-vertex graphs"
   ]
  },
  {
   "cell_type": "code",
   "execution_count": 18,
   "id": "7c2fe8df",
   "metadata": {
    "scrolled": false
   },
   "outputs": [
    {
     "name": "stdout",
     "output_type": "stream",
     "text": [
      "64\n"
     ]
    }
   ],
   "source": [
    "vertex_list = [0,1,2,3]\n",
    "graph_set = []\n",
    "\n",
    "\n",
    "# No edges\n",
    "g = nx.Graph()\n",
    "g.add_nodes_from(vertex_list)\n",
    "graph_set.append(g)\n",
    "\n",
    "c = list(itertools.combinations(vertex_list,2))\n",
    "#print(c)\n",
    "#print()\n",
    "for t in c:\n",
    "    g = nx.Graph()\n",
    "    g.add_nodes_from(vertex_list)\n",
    "    g.add_edge(t[0],t[1])\n",
    "    graph_set.append(g)\n",
    "    \n",
    "p = list(itertools.combinations(c,2))\n",
    "#print(p)\n",
    "#print()\n",
    "for t in p:\n",
    "    g = nx.Graph()\n",
    "    g.add_nodes_from(vertex_list)\n",
    "    for a in t:\n",
    "        g.add_edge(a[0],a[1])\n",
    "    graph_set.append(g)\n",
    "\n",
    "p = list(itertools.combinations(c,3))\n",
    "#print(p)\n",
    "#print()\n",
    "for t in p:\n",
    "    g = nx.Graph()\n",
    "    g.add_nodes_from(vertex_list)\n",
    "    for a in t:\n",
    "        g.add_edge(a[0],a[1])\n",
    "    graph_set.append(g)\n",
    "\n",
    "p = list(itertools.combinations(c,4))\n",
    "#print(p)\n",
    "#print()\n",
    "for t in p:\n",
    "    g = nx.Graph()\n",
    "    g.add_nodes_from(vertex_list)\n",
    "    for a in t:\n",
    "        g.add_edge(a[0],a[1])\n",
    "    graph_set.append(g)\n",
    "\n",
    "p = list(itertools.combinations(c,5))\n",
    "#print(p)\n",
    "#print()\n",
    "for t in p:\n",
    "    g = nx.Graph()\n",
    "    g.add_nodes_from(vertex_list)\n",
    "    for a in t:\n",
    "        g.add_edge(a[0],a[1])\n",
    "    graph_set.append(g)\n",
    "    \n",
    "p = list(itertools.combinations(c,6))\n",
    "#print(p)\n",
    "#print()\n",
    "for t in p:\n",
    "    g = nx.Graph()\n",
    "    g.add_nodes_from(vertex_list)\n",
    "    for a in t:\n",
    "        g.add_edge(a[0],a[1])\n",
    "    graph_set.append(g)\n",
    "\n",
    "print(len(graph_set))\n",
    "\n",
    "#for g in graph_set:\n",
    "#    nx.draw_networkx(g,node_color='pink')\n",
    "#    plt.show()\n",
    "\n"
   ]
  },
  {
   "cell_type": "code",
   "execution_count": null,
   "id": "3c73d994",
   "metadata": {},
   "outputs": [],
   "source": []
  },
  {
   "cell_type": "markdown",
   "id": "8f07f35a",
   "metadata": {},
   "source": [
    "### Probability of a network statistic"
   ]
  },
  {
   "cell_type": "code",
   "execution_count": 25,
   "id": "faac17f9",
   "metadata": {},
   "outputs": [
    {
     "name": "stdout",
     "output_type": "stream",
     "text": [
      "Number of graphs containing a triangle: 23\n",
      "Number of triangles in graph set: 32\n",
      "\n",
      "Probability that a graph contains a triangle: 0.359375\n",
      "\n",
      "Probability of graph: 0.2976592681416569\n",
      "\n",
      "4.0\n"
     ]
    },
    {
     "data": {
      "image/png": "[encoded data removed]",
      "text/plain": [
       "<Figure size 640x480 with 1 Axes>"
      ]
     },
     "metadata": {},
     "output_type": "display_data"
    }
   ],
   "source": [
    "t = 0\n",
    "r = 0\n",
    "for g in graph_set:\n",
    "    r += int(get_triangles(g))\n",
    "    if get_triangles(g) > 0:\n",
    "        t += 1\n",
    "print('Number of graphs containing a triangle:',t)\n",
    "print('Number of triangles in graph set:',r)\n",
    "print()\n",
    "print('Probability that a graph contains a triangle:',t/len(graph_set))\n",
    "print()\n",
    "\n",
    "# Compute the probability of a graph using the triangle network statistic\n",
    "graph_index = 63\n",
    "\n",
    "coefficients = [0.0,0.0,1.0]\n",
    "statistics = [get_edges,get_isolates,get_triangles]\n",
    "\n",
    "denom = get_ergm_denominator(graph_set, coefficients, statistics)\n",
    "\n",
    "numerator = get_ergm_weight(graph_set[graph_index], coefficients, statistics)\n",
    "\n",
    "print('ERGM probability of selected graph:',numerator/denom)\n",
    "print()\n",
    "\n",
    "print(get_triangles(graph_set[graph_index]))\n",
    "nx.draw_networkx(graph_set[graph_index],node_color='pink')\n"
   ]
  },
  {
   "cell_type": "code",
   "execution_count": null,
   "id": "582bc9a3",
   "metadata": {},
   "outputs": [],
   "source": []
  },
  {
   "cell_type": "markdown",
   "id": "cd21063d",
   "metadata": {},
   "source": [
    "### Distribution of network statistic"
   ]
  },
  {
   "cell_type": "code",
   "execution_count": 29,
   "id": "5dcc4a57",
   "metadata": {},
   "outputs": [
    {
     "data": {
      "image/png": "[encoded data removed]",
      "text/plain": [
       "<Figure size 1600x400 with 1 Axes>"
      ]
     },
     "metadata": {},
     "output_type": "display_data"
    },
    {
     "data": {
      "image/png": "[encoded data removed]",
      "text/plain": [
       "<Figure size 800x400 with 1 Axes>"
      ]
     },
     "metadata": {},
     "output_type": "display_data"
    }
   ],
   "source": [
    "# Triangles\n",
    "\n",
    "y = []\n",
    "for g in graph_set:\n",
    "    y.append(get_triangles(g))\n",
    "    \n",
    "\n",
    "fig = plt.figure(figsize=(16,4))\n",
    "x = range(0,len(y))\n",
    "plt.scatter(x,y)\n",
    "plt.plot(x,y)\n",
    "plt.xlabel('Graph index')\n",
    "plt.ylabel('Number of triangles')\n",
    "plt.show()\n",
    "\n",
    "fig = plt.figure(figsize=(8,4))\n",
    "plt.hist(y,bins=100)\n",
    "plt.xlabel('Number of triangles')\n",
    "plt.ylabel('Frequency')\n",
    "plt.show()\n",
    "    "
   ]
  },
  {
   "cell_type": "markdown",
   "id": "5e56bd93",
   "metadata": {},
   "source": []
  },
  {
   "cell_type": "markdown",
   "id": "b7f41d21",
   "metadata": {},
   "source": [
    "### Distribution of graph probabilities based on network statistics"
   ]
  },
  {
   "cell_type": "code",
   "execution_count": 35,
   "id": "04a32896",
   "metadata": {},
   "outputs": [
    {
     "data": {
      "image/png": "[encoded data removed]",
      "text/plain": [
       "<Figure size 1600x400 with 1 Axes>"
      ]
     },
     "metadata": {},
     "output_type": "display_data"
    },
    {
     "data": {
      "image/png": "[encoded data removed]",
      "text/plain": [
       "<Figure size 800x400 with 1 Axes>"
      ]
     },
     "metadata": {},
     "output_type": "display_data"
    }
   ],
   "source": [
    "coefficients = [0.0,1.0,0.0]\n",
    "\n",
    "statistics = [get_edges,get_isolates,get_triangles]\n",
    "denom = get_ergm_denominator(graph_set, coefficients, statistics)\n",
    "\n",
    "y = []\n",
    "for g in graph_set:\n",
    "    numerator = get_ergm_weight(g, coefficients, statistics)\n",
    "    y.append(numerator/denom)\n",
    "\n",
    "fig = plt.figure(figsize=(16,4))\n",
    "x = range(0,len(y))\n",
    "plt.scatter(x,y)\n",
    "plt.plot(x,y)\n",
    "plt.xlabel('Graph index')\n",
    "plt.ylabel('Pr(g|G)')\n",
    "plt.show()\n",
    "\n",
    "fig = plt.figure(figsize=(8,4))\n",
    "plt.hist(y,bins=100)\n",
    "plt.xlabel('Pr(g|G)')\n",
    "plt.ylabel('Frequency')\n",
    "plt.show()\n"
   ]
  },
  {
   "cell_type": "code",
   "execution_count": null,
   "id": "5fcbf726",
   "metadata": {},
   "outputs": [],
   "source": []
  },
  {
   "cell_type": "code",
   "execution_count": null,
   "id": "90fa536c",
   "metadata": {},
   "outputs": [],
   "source": []
  },
  {
   "cell_type": "markdown",
   "id": "86f0fc60",
   "metadata": {},
   "source": [
    "## Build the set of three-node undirected graphs"
   ]
  },
  {
   "cell_type": "code",
   "execution_count": null,
   "id": "378dd211",
   "metadata": {},
   "outputs": [],
   "source": [
    "# Build the set of three node graphs as a sample set for denominator calculation\n",
    "# This needs to be sensible\n",
    "\n",
    "graph_set = []\n",
    "g = nx.Graph()\n",
    "g.add_nodes_from([0,1,2])\n",
    "graph_set.append(g)\n",
    "\n",
    "g = nx.Graph()\n",
    "g.add_nodes_from([0,1,2])\n",
    "g.add_edge(0,1)\n",
    "graph_set.append(g)\n",
    "\n",
    "g = nx.Graph()\n",
    "g.add_nodes_from([0,1,2])\n",
    "g.add_edge(0,2)\n",
    "graph_set.append(g)\n",
    "\n",
    "g = nx.Graph()\n",
    "g.add_nodes_from([0,1,2])\n",
    "g.add_edge(1,2)\n",
    "graph_set.append(g)\n",
    "\n",
    "g = nx.Graph()\n",
    "g.add_nodes_from([0,1,2])\n",
    "g.add_edge(0,1)\n",
    "g.add_edge(0,2)\n",
    "graph_set.append(g)\n",
    "\n",
    "g = nx.Graph()\n",
    "g.add_nodes_from([0,1,2])\n",
    "g.add_edge(0,1)\n",
    "g.add_edge(1,2)\n",
    "graph_set.append(g)\n",
    "\n",
    "g = nx.Graph()\n",
    "g.add_nodes_from([0,1,2])\n",
    "g.add_edge(0,2)\n",
    "g.add_edge(1,2)\n",
    "graph_set.append(g)\n",
    "\n",
    "g = nx.Graph()\n",
    "g.add_nodes_from([0,1,2])\n",
    "g.add_edge(0,1)\n",
    "g.add_edge(0,2)\n",
    "g.add_edge(1,2)\n",
    "graph_set.append(g)\n",
    "\n",
    "print(len(graph_set))\n"
   ]
  },
  {
   "cell_type": "code",
   "execution_count": null,
   "id": "c097275d",
   "metadata": {},
   "outputs": [],
   "source": []
  },
  {
   "cell_type": "markdown",
   "id": "f7f6fd78",
   "metadata": {},
   "source": [
    "## Display the graph set with values of statistics"
   ]
  },
  {
   "cell_type": "code",
   "execution_count": null,
   "id": "f14186e4",
   "metadata": {},
   "outputs": [],
   "source": [
    "fig = plt.figure(figsize=(8,4),layout=\"constrained\")\n",
    "\n",
    "gs = GridSpec(2, 4, figure=fig)\n",
    "\n",
    "for i,g in enumerate(graph_set):\n",
    "    ax = fig.add_subplot(gs[i//4,i%4])\n",
    "    nx.draw_networkx(g,node_color='pink')\n",
    "    title = str(get_edges(g)) + ', ' + str(get_isolates(g)) + \\\n",
    "        ', ' + str(get_triangles(g))\n",
    "    ax.set_title(title)\n",
    "plt.show()\n",
    "    "
   ]
  },
  {
   "cell_type": "code",
   "execution_count": null,
   "id": "529b1e25",
   "metadata": {},
   "outputs": [],
   "source": []
  },
  {
   "cell_type": "markdown",
   "id": "5b1dfd2d",
   "metadata": {},
   "source": [
    "## Play with coefficients for each graph in the set\n",
    "\n",
    "- A graph can be considered the observed graph\n",
    "- Display the probability of the observed graph given the coefficients\n"
   ]
  },
  {
   "cell_type": "code",
   "execution_count": null,
   "id": "aef0a653",
   "metadata": {
    "scrolled": false
   },
   "outputs": [],
   "source": [
    "coefficients = [1.0,0.0,1.0]\n",
    "statistics = [get_edges,get_isolates,get_triangles]\n",
    "\n",
    "fig = plt.figure(figsize=(8,4),layout=\"constrained\")\n",
    "\n",
    "gs = GridSpec(2, 4, figure=fig)\n",
    "\n",
    "denom = get_ergm_denominator(graph_set, coefficients, statistics)\n",
    "\n",
    "for i,g in enumerate(graph_set):\n",
    "    numerator = get_ergm_weight(g, coefficients, statistics)\n",
    "    pr = round(numerator/denom,3)\n",
    "\n",
    "    ax = fig.add_subplot(gs[i//4,i%4])\n",
    "    nx.draw_networkx(g,node_color='pink')\n",
    "    title = 'Graph ' + str(i) + ' Pr = ' + str(pr)\n",
    "    ax.set_title(title)\n",
    "    \n",
    "fig.suptitle(coeffs_to_string(coefficients))\n",
    "plt.show()\n",
    "\n"
   ]
  },
  {
   "cell_type": "code",
   "execution_count": null,
   "id": "87f7fce9",
   "metadata": {},
   "outputs": [],
   "source": []
  },
  {
   "cell_type": "markdown",
   "id": "fcf18871",
   "metadata": {},
   "source": [
    "## Effect of coefficient values for a single statistic\n",
    "\n",
    "- Other coefficients are set to zero\n"
   ]
  },
  {
   "cell_type": "code",
   "execution_count": null,
   "id": "ebfcd734",
   "metadata": {},
   "outputs": [],
   "source": [
    "\n",
    "def pr_analysis(coeff_values,non_zero_coeff_values,statistics,label):    \n",
    "    pr_dict = {}\n",
    "    for t in coeff_values:\n",
    "        # Other coefficients are 0\n",
    "        coefficients = [t[0],t[1],t[2]]\n",
    "        denom = get_ergm_denominator(graph_set, coefficients, statistics)\n",
    "\n",
    "        for i,g in enumerate(graph_set):\n",
    "            numerator = get_ergm_weight(g, coefficients, statistics)\n",
    "            pr = round(numerator/denom,3)\n",
    "            if i in pr_dict:\n",
    "                pr_dict[i].append(pr)\n",
    "            else:\n",
    "                pr_dict[i] = [pr]\n",
    "    fig = plt.figure(figsize=(8,4),layout=\"constrained\")\n",
    "    x = non_zero_coeff_values\n",
    "    for k,v in pr_dict.items():\n",
    "        plt.plot(x,v,label=str(k))\n",
    "        plt.scatter(x,v)\n",
    "    #plt.ylim(0,1)\n",
    "    plt.xlabel('Value of ' + label + ' statistic coefficient')\n",
    "    plt.ylabel('Pr of graph')\n",
    "    plt.legend()\n",
    "    plt.title(label)\n",
    "    plt.show()\n",
    "\n",
    "statistics = [get_edges,get_isolates,get_triangles]\n",
    "\n",
    "non_zero_coeff_values = np.arange(0,1.1,0.1)\n",
    "zero_values = np.zeros(len(non_zero_coeff_values))\n",
    "\n",
    "coeff_values = list(zip(non_zero_coeff_values,zero_values,zero_values))\n",
    "pr_analysis(coeff_values,non_zero_coeff_values,statistics,'Edges')\n",
    "\n",
    "coeff_values = list(zip(zero_values,non_zero_coeff_values,zero_values))\n",
    "pr_analysis(coeff_values,non_zero_coeff_values,statistics,'Isolates')\n",
    "\n",
    "coeff_values = list(zip(zero_values,zero_values,non_zero_coeff_values))\n",
    "pr_analysis(coeff_values,non_zero_coeff_values,statistics,'Triangles')\n",
    "\n"
   ]
  },
  {
   "cell_type": "code",
   "execution_count": null,
   "id": "bd24ea3b",
   "metadata": {},
   "outputs": [],
   "source": []
  },
  {
   "cell_type": "markdown",
   "id": "24e1fbc6",
   "metadata": {},
   "source": [
    "## Joint distributions for a pair of statistics\n",
    "\n",
    "Using edges and triangles only.\n"
   ]
  },
  {
   "cell_type": "code",
   "execution_count": null,
   "id": "81ec1a0e",
   "metadata": {},
   "outputs": [],
   "source": [
    "# Need a matrix of values for each graph\n",
    "\n",
    "statistics = [get_edges,get_isolates,get_triangles]\n",
    "\n",
    "g = graph_set[7]\n",
    "\n",
    "\n",
    "non_zero_coeff_values = np.arange(0,1.1,0.1)\n",
    "\n",
    "matrix = np.zeros((len(non_zero_coeff_values),len(non_zero_coeff_values)))\n",
    "\n",
    "\n",
    "for i,x in enumerate(non_zero_coeff_values):\n",
    "    for j,y in enumerate(non_zero_coeff_values):\n",
    "        coefficients = [x,0,y]\n",
    "        denom = get_ergm_denominator(graph_set, coefficients, statistics)\n",
    "        numerator = get_ergm_weight(g, coefficients, statistics)\n",
    "        pr = round(numerator/denom,3)\n",
    "        matrix[i,j] = pr\n",
    "\n",
    "\n",
    "plt.imshow(matrix)\n",
    "plt.colorbar()\n",
    "plt.ylabel('Edges coefficent')\n",
    "plt.xlabel('Triangles coefficent')\n",
    "#plt.clim(0,1)\n",
    "\n",
    "plt.show()\n",
    "\n",
    "m,n = matrix.shape\n",
    "plt.figure(figsize=(16, 8))\n",
    "ax = plt.axes(projection='3d')\n",
    "X, Y = np.meshgrid(non_zero_coeff_values, non_zero_coeff_values)\n",
    "p = ax.plot_surface(X, Y, matrix, rstride=1, cstride=1, cmap='viridis', edgecolor='none',\\\n",
    "                    antialiased=False,vmin=0,vmax=1.0)\n",
    "ax.set_zlim(0,1)\n",
    "ax.set_ylabel('Edges coefficient')\n",
    "ax.set_xlabel('Triangles coefficient')\n",
    "ax.set_zlabel('Probability of graph')\n",
    "#cbar = fig.colorbar(p,ax=ax)\n",
    "#cbar.set_label('Probability of graph', rotation=270)\n",
    "\n",
    "plt.show()\n"
   ]
  },
  {
   "cell_type": "code",
   "execution_count": null,
   "id": "22ebbec0",
   "metadata": {},
   "outputs": [],
   "source": []
  },
  {
   "cell_type": "code",
   "execution_count": null,
   "id": "798e041f",
   "metadata": {},
   "outputs": [],
   "source": [
    "# Need a matrix of values for each graph\n",
    "\n",
    "statistics = [get_edges,get_isolates,get_triangles]\n",
    "non_zero_coeff_values = np.arange(0,1.1,0.1)\n",
    "\n",
    "fig = plt.figure(figsize=(20,20))\n",
    "\n",
    "gs = GridSpec(4, 2, figure=fig)\n",
    "\n",
    "for k,g in enumerate(graph_set):\n",
    "\n",
    "    matrix = np.zeros((len(non_zero_coeff_values),len(non_zero_coeff_values)))\n",
    "\n",
    "\n",
    "    for i,x in enumerate(non_zero_coeff_values):\n",
    "        for j,y in enumerate(non_zero_coeff_values):\n",
    "            coefficients = [x,0,y]\n",
    "            denom = get_ergm_denominator(graph_set, coefficients, statistics)\n",
    "            numerator = get_ergm_weight(g, coefficients, statistics)\n",
    "            pr = round(numerator/denom,3)\n",
    "            matrix[i,j] = pr\n",
    "\n",
    "    m,n = matrix.shape\n",
    "    ax = fig.add_subplot(gs[k%4,k//4])\n",
    "    \n",
    "    \n",
    "    im = ax.imshow(matrix)\n",
    "    #ax = plt.axes(projection='3d')\n",
    "    #X, Y = np.meshgrid(non_zero_coeff_values, non_zero_coeff_values)\n",
    "    #p = ax.plot_surface(X, Y, matrix, rstride=1, cstride=1, cmap='viridis', edgecolor='none',\\\n",
    "    #                    antialiased=False,vmin=0,vmax=1.0)\n",
    "    #ax.set_zlim(0,1)\n",
    "    ax.set_ylabel('Edges coefficient')\n",
    "    ax.set_xlabel('Triangles coefficient')\n",
    "    \n",
    "    \n",
    "    \n",
    "    #ax.set_zlabel('Probability of graph')\n",
    "    #ax.set_title('Graph: ' + str(k))\n",
    "    #cbar = fig.colorbar(matrix,ax=ax)\n",
    "    #cbar.set_label('Probability of graph', rotation=270)\n",
    "    #fig.subplots_adjust(right=0.8)\n",
    "    #cbar_ax = fig.add_axes([0.85, 0.15, 0.05, 0.7])\n",
    "    fig.colorbar(im, ax=ax)\n",
    "\n",
    "plt.show()\n"
   ]
  },
  {
   "cell_type": "code",
   "execution_count": null,
   "id": "1a309438",
   "metadata": {},
   "outputs": [],
   "source": []
  },
  {
   "cell_type": "code",
   "execution_count": null,
   "id": "89ccd63d",
   "metadata": {},
   "outputs": [],
   "source": []
  },
  {
   "cell_type": "code",
   "execution_count": null,
   "id": "91c1c1ce",
   "metadata": {},
   "outputs": [],
   "source": []
  }
 ],
 "metadata": {
  "kernelspec": {
   "display_name": "Python 3 (ipykernel)",
   "language": "python",
   "name": "python3"
  },
  "language_info": {
   "codemirror_mode": {
    "name": "ipython",
    "version": 3
   },
   "file_extension": ".py",
   "mimetype": "text/x-python",
   "name": "python",
   "nbconvert_exporter": "python",
   "pygments_lexer": "ipython3",
   "version": "3.9.13"
  }
 },
 "nbformat": 4,
 "nbformat_minor": 5
}
